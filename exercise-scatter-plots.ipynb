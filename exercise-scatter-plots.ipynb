{
 "cells": [
  {
   "cell_type": "markdown",
   "id": "4d614c7d",
   "metadata": {
    "papermill": {
     "duration": 0.026433,
     "end_time": "2022-04-15T19:15:10.996300",
     "exception": false,
     "start_time": "2022-04-15T19:15:10.969867",
     "status": "completed"
    },
    "tags": []
   },
   "source": [
    "**This notebook is an exercise in the [Data Visualization](https://www.kaggle.com/learn/data-visualization) course.  You can reference the tutorial at [this link](https://www.kaggle.com/alexisbcook/scatter-plots).**\n",
    "\n",
    "---\n"
   ]
  },
  {
   "cell_type": "markdown",
   "id": "5108e588",
   "metadata": {
    "papermill": {
     "duration": 0.024632,
     "end_time": "2022-04-15T19:15:11.046203",
     "exception": false,
     "start_time": "2022-04-15T19:15:11.021571",
     "status": "completed"
    },
    "tags": []
   },
   "source": [
    "In this exercise, you will use your new knowledge to propose a solution to a real-world scenario.  To succeed, you will need to import data into Python, answer questions using the data, and generate **scatter plots** to understand patterns in the data.\n",
    "\n",
    "## Scenario\n",
    "\n",
    "You work for a major candy producer, and your goal is to write a report that your company can use to guide the design of its next product.  Soon after starting your research, you stumble across this [very interesting dataset](https://fivethirtyeight.com/features/the-ultimate-halloween-candy-power-ranking/) containing results from a fun survey to crowdsource favorite candies.\n",
    "\n",
    "## Setup\n",
    "\n",
    "Run the next cell to import and configure the Python libraries that you need to complete the exercise."
   ]
  },
  {
   "cell_type": "code",
   "execution_count": 1,
   "id": "6f2b8f24",
   "metadata": {
    "execution": {
     "iopub.execute_input": "2022-04-15T19:15:11.098617Z",
     "iopub.status.busy": "2022-04-15T19:15:11.098085Z",
     "iopub.status.idle": "2022-04-15T19:15:12.075112Z",
     "shell.execute_reply": "2022-04-15T19:15:12.074094Z"
    },
    "papermill": {
     "duration": 1.005338,
     "end_time": "2022-04-15T19:15:12.077289",
     "exception": false,
     "start_time": "2022-04-15T19:15:11.071951",
     "status": "completed"
    },
    "tags": []
   },
   "outputs": [
    {
     "name": "stdout",
     "output_type": "stream",
     "text": [
      "Setup Complete\n"
     ]
    }
   ],
   "source": [
    "import pandas as pd\n",
    "pd.plotting.register_matplotlib_converters()\n",
    "import matplotlib.pyplot as plt\n",
    "%matplotlib inline\n",
    "import seaborn as sns\n",
    "print(\"Setup Complete\")"
   ]
  },
  {
   "cell_type": "markdown",
   "id": "bab6928a",
   "metadata": {
    "papermill": {
     "duration": 0.024998,
     "end_time": "2022-04-15T19:15:12.128621",
     "exception": false,
     "start_time": "2022-04-15T19:15:12.103623",
     "status": "completed"
    },
    "tags": []
   },
   "source": [
    "The questions below will give you feedback on your work. Run the following cell to set up our feedback system."
   ]
  },
  {
   "cell_type": "code",
   "execution_count": 2,
   "id": "ce57d953",
   "metadata": {
    "execution": {
     "iopub.execute_input": "2022-04-15T19:15:12.182202Z",
     "iopub.status.busy": "2022-04-15T19:15:12.181925Z",
     "iopub.status.idle": "2022-04-15T19:15:12.243684Z",
     "shell.execute_reply": "2022-04-15T19:15:12.242818Z"
    },
    "papermill": {
     "duration": 0.091822,
     "end_time": "2022-04-15T19:15:12.245686",
     "exception": false,
     "start_time": "2022-04-15T19:15:12.153864",
     "status": "completed"
    },
    "tags": []
   },
   "outputs": [
    {
     "name": "stdout",
     "output_type": "stream",
     "text": [
      "Setup Complete\n"
     ]
    }
   ],
   "source": [
    "# Set up code checking\n",
    "import os\n",
    "if not os.path.exists(\"../input/candy.csv\"):\n",
    "    os.symlink(\"../input/data-for-datavis/candy.csv\", \"../input/candy.csv\") \n",
    "from learntools.core import binder\n",
    "binder.bind(globals())\n",
    "from learntools.data_viz_to_coder.ex4 import *\n",
    "print(\"Setup Complete\")"
   ]
  },
  {
   "cell_type": "markdown",
   "id": "139f2354",
   "metadata": {
    "papermill": {
     "duration": 0.032561,
     "end_time": "2022-04-15T19:15:12.313312",
     "exception": false,
     "start_time": "2022-04-15T19:15:12.280751",
     "status": "completed"
    },
    "tags": []
   },
   "source": [
    "## Step 1: Load the Data\n",
    "\n",
    "Read the candy data file into `candy_data`.  Use the `\"id\"` column to label the rows."
   ]
  },
  {
   "cell_type": "code",
   "execution_count": 3,
   "id": "a9bd8433",
   "metadata": {
    "execution": {
     "iopub.execute_input": "2022-04-15T19:15:12.365867Z",
     "iopub.status.busy": "2022-04-15T19:15:12.365059Z",
     "iopub.status.idle": "2022-04-15T19:15:12.379184Z",
     "shell.execute_reply": "2022-04-15T19:15:12.378395Z"
    },
    "papermill": {
     "duration": 0.0416,
     "end_time": "2022-04-15T19:15:12.380894",
     "exception": false,
     "start_time": "2022-04-15T19:15:12.339294",
     "status": "completed"
    },
    "tags": []
   },
   "outputs": [
    {
     "data": {
      "application/javascript": [
       "parent.postMessage({\"jupyterEvent\": \"custom.exercise_interaction\", \"data\": {\"outcomeType\": 1, \"valueTowardsCompletion\": 0.3333333333333333, \"interactionType\": 1, \"questionType\": 1, \"questionId\": \"1_LoadData\", \"learnToolsVersion\": \"0.3.4\", \"failureMessage\": \"\", \"exceptionClass\": \"\", \"trace\": \"\"}}, \"*\")"
      ],
      "text/plain": [
       "<IPython.core.display.Javascript object>"
      ]
     },
     "metadata": {},
     "output_type": "display_data"
    },
    {
     "data": {
      "text/markdown": [
       "<span style=\"color:#33cc33\">Correct</span>"
      ],
      "text/plain": [
       "Correct"
      ]
     },
     "metadata": {},
     "output_type": "display_data"
    }
   ],
   "source": [
    "# Path of the file to read\n",
    "candy_filepath = \"../input/candy.csv\"\n",
    "\n",
    "# Fill in the line below to read the file into a variable candy_data\n",
    "candy_data = pd.read_csv(candy_filepath,index_col=\"id\")\n",
    "\n",
    "# Run the line below with no changes to check that you've loaded the data correctly\n",
    "step_1.check()"
   ]
  },
  {
   "cell_type": "code",
   "execution_count": 4,
   "id": "7ee9a1ec",
   "metadata": {
    "execution": {
     "iopub.execute_input": "2022-04-15T19:15:12.434778Z",
     "iopub.status.busy": "2022-04-15T19:15:12.434224Z",
     "iopub.status.idle": "2022-04-15T19:15:12.437728Z",
     "shell.execute_reply": "2022-04-15T19:15:12.437203Z"
    },
    "papermill": {
     "duration": 0.032535,
     "end_time": "2022-04-15T19:15:12.439489",
     "exception": false,
     "start_time": "2022-04-15T19:15:12.406954",
     "status": "completed"
    },
    "tags": []
   },
   "outputs": [],
   "source": [
    "# Lines below will give you a hint or solution code\n",
    "#step_1.hint()\n",
    "#step_1.solution()"
   ]
  },
  {
   "cell_type": "markdown",
   "id": "ad1fcbaa",
   "metadata": {
    "papermill": {
     "duration": 0.025494,
     "end_time": "2022-04-15T19:15:12.490918",
     "exception": false,
     "start_time": "2022-04-15T19:15:12.465424",
     "status": "completed"
    },
    "tags": []
   },
   "source": [
    "## Step 2: Review the data\n",
    "\n",
    "Use a Python command to print the first five rows of the data."
   ]
  },
  {
   "cell_type": "code",
   "execution_count": 5,
   "id": "0811c958",
   "metadata": {
    "execution": {
     "iopub.execute_input": "2022-04-15T19:15:12.543929Z",
     "iopub.status.busy": "2022-04-15T19:15:12.543408Z",
     "iopub.status.idle": "2022-04-15T19:15:12.562142Z",
     "shell.execute_reply": "2022-04-15T19:15:12.561384Z"
    },
    "papermill": {
     "duration": 0.047299,
     "end_time": "2022-04-15T19:15:12.563862",
     "exception": false,
     "start_time": "2022-04-15T19:15:12.516563",
     "status": "completed"
    },
    "tags": []
   },
   "outputs": [
    {
     "data": {
      "text/html": [
       "<div>\n",
       "<style scoped>\n",
       "    .dataframe tbody tr th:only-of-type {\n",
       "        vertical-align: middle;\n",
       "    }\n",
       "\n",
       "    .dataframe tbody tr th {\n",
       "        vertical-align: top;\n",
       "    }\n",
       "\n",
       "    .dataframe thead th {\n",
       "        text-align: right;\n",
       "    }\n",
       "</style>\n",
       "<table border=\"1\" class=\"dataframe\">\n",
       "  <thead>\n",
       "    <tr style=\"text-align: right;\">\n",
       "      <th></th>\n",
       "      <th>competitorname</th>\n",
       "      <th>chocolate</th>\n",
       "      <th>fruity</th>\n",
       "      <th>caramel</th>\n",
       "      <th>peanutyalmondy</th>\n",
       "      <th>nougat</th>\n",
       "      <th>crispedricewafer</th>\n",
       "      <th>hard</th>\n",
       "      <th>bar</th>\n",
       "      <th>pluribus</th>\n",
       "      <th>sugarpercent</th>\n",
       "      <th>pricepercent</th>\n",
       "      <th>winpercent</th>\n",
       "    </tr>\n",
       "    <tr>\n",
       "      <th>id</th>\n",
       "      <th></th>\n",
       "      <th></th>\n",
       "      <th></th>\n",
       "      <th></th>\n",
       "      <th></th>\n",
       "      <th></th>\n",
       "      <th></th>\n",
       "      <th></th>\n",
       "      <th></th>\n",
       "      <th></th>\n",
       "      <th></th>\n",
       "      <th></th>\n",
       "      <th></th>\n",
       "    </tr>\n",
       "  </thead>\n",
       "  <tbody>\n",
       "    <tr>\n",
       "      <th>0</th>\n",
       "      <td>100 Grand</td>\n",
       "      <td>Yes</td>\n",
       "      <td>No</td>\n",
       "      <td>Yes</td>\n",
       "      <td>No</td>\n",
       "      <td>No</td>\n",
       "      <td>Yes</td>\n",
       "      <td>No</td>\n",
       "      <td>Yes</td>\n",
       "      <td>No</td>\n",
       "      <td>0.732</td>\n",
       "      <td>0.860</td>\n",
       "      <td>66.971725</td>\n",
       "    </tr>\n",
       "    <tr>\n",
       "      <th>1</th>\n",
       "      <td>3 Musketeers</td>\n",
       "      <td>Yes</td>\n",
       "      <td>No</td>\n",
       "      <td>No</td>\n",
       "      <td>No</td>\n",
       "      <td>Yes</td>\n",
       "      <td>No</td>\n",
       "      <td>No</td>\n",
       "      <td>Yes</td>\n",
       "      <td>No</td>\n",
       "      <td>0.604</td>\n",
       "      <td>0.511</td>\n",
       "      <td>67.602936</td>\n",
       "    </tr>\n",
       "    <tr>\n",
       "      <th>2</th>\n",
       "      <td>Air Heads</td>\n",
       "      <td>No</td>\n",
       "      <td>Yes</td>\n",
       "      <td>No</td>\n",
       "      <td>No</td>\n",
       "      <td>No</td>\n",
       "      <td>No</td>\n",
       "      <td>No</td>\n",
       "      <td>No</td>\n",
       "      <td>No</td>\n",
       "      <td>0.906</td>\n",
       "      <td>0.511</td>\n",
       "      <td>52.341465</td>\n",
       "    </tr>\n",
       "    <tr>\n",
       "      <th>3</th>\n",
       "      <td>Almond Joy</td>\n",
       "      <td>Yes</td>\n",
       "      <td>No</td>\n",
       "      <td>No</td>\n",
       "      <td>Yes</td>\n",
       "      <td>No</td>\n",
       "      <td>No</td>\n",
       "      <td>No</td>\n",
       "      <td>Yes</td>\n",
       "      <td>No</td>\n",
       "      <td>0.465</td>\n",
       "      <td>0.767</td>\n",
       "      <td>50.347546</td>\n",
       "    </tr>\n",
       "    <tr>\n",
       "      <th>4</th>\n",
       "      <td>Baby Ruth</td>\n",
       "      <td>Yes</td>\n",
       "      <td>No</td>\n",
       "      <td>Yes</td>\n",
       "      <td>Yes</td>\n",
       "      <td>Yes</td>\n",
       "      <td>No</td>\n",
       "      <td>No</td>\n",
       "      <td>Yes</td>\n",
       "      <td>No</td>\n",
       "      <td>0.604</td>\n",
       "      <td>0.767</td>\n",
       "      <td>56.914547</td>\n",
       "    </tr>\n",
       "  </tbody>\n",
       "</table>\n",
       "</div>"
      ],
      "text/plain": [
       "   competitorname chocolate fruity caramel peanutyalmondy nougat  \\\n",
       "id                                                                 \n",
       "0       100 Grand       Yes     No     Yes             No     No   \n",
       "1    3 Musketeers       Yes     No      No             No    Yes   \n",
       "2       Air Heads        No    Yes      No             No     No   \n",
       "3      Almond Joy       Yes     No      No            Yes     No   \n",
       "4       Baby Ruth       Yes     No     Yes            Yes    Yes   \n",
       "\n",
       "   crispedricewafer hard  bar pluribus  sugarpercent  pricepercent  winpercent  \n",
       "id                                                                              \n",
       "0               Yes   No  Yes       No         0.732         0.860   66.971725  \n",
       "1                No   No  Yes       No         0.604         0.511   67.602936  \n",
       "2                No   No   No       No         0.906         0.511   52.341465  \n",
       "3                No   No  Yes       No         0.465         0.767   50.347546  \n",
       "4                No   No  Yes       No         0.604         0.767   56.914547  "
      ]
     },
     "execution_count": 5,
     "metadata": {},
     "output_type": "execute_result"
    }
   ],
   "source": [
    "# Print the first five rows of the data\n",
    "candy_data.head()"
   ]
  },
  {
   "cell_type": "markdown",
   "id": "d2d05773",
   "metadata": {
    "papermill": {
     "duration": 0.026105,
     "end_time": "2022-04-15T19:15:12.616494",
     "exception": false,
     "start_time": "2022-04-15T19:15:12.590389",
     "status": "completed"
    },
    "tags": []
   },
   "source": [
    "The dataset contains 83 rows, where each corresponds to a different candy bar.  There are 13 columns:\n",
    "- `'competitorname'` contains the name of the candy bar. \n",
    "- the next **9** columns (from `'chocolate'` to `'pluribus'`) describe the candy.  For instance, rows with chocolate candies have `\"Yes\"` in the `'chocolate'` column (and candies without chocolate have `\"No\"` in the same column).\n",
    "- `'sugarpercent'` provides some indication of the amount of sugar, where higher values signify higher sugar content.\n",
    "- `'pricepercent'` shows the price per unit, relative to the other candies in the dataset.\n",
    "- `'winpercent'` is calculated from the survey results; higher values indicate that the candy was more popular with survey respondents.\n",
    "\n",
    "Use the first five rows of the data to answer the questions below."
   ]
  },
  {
   "cell_type": "code",
   "execution_count": 6,
   "id": "bb847bad",
   "metadata": {
    "execution": {
     "iopub.execute_input": "2022-04-15T19:15:12.670716Z",
     "iopub.status.busy": "2022-04-15T19:15:12.670292Z",
     "iopub.status.idle": "2022-04-15T19:15:12.677599Z",
     "shell.execute_reply": "2022-04-15T19:15:12.677043Z"
    },
    "papermill": {
     "duration": 0.036357,
     "end_time": "2022-04-15T19:15:12.679207",
     "exception": false,
     "start_time": "2022-04-15T19:15:12.642850",
     "status": "completed"
    },
    "tags": []
   },
   "outputs": [
    {
     "data": {
      "application/javascript": [
       "parent.postMessage({\"jupyterEvent\": \"custom.exercise_interaction\", \"data\": {\"outcomeType\": 1, \"valueTowardsCompletion\": 0.3333333333333333, \"interactionType\": 1, \"questionType\": 1, \"questionId\": \"2_ReviewData\", \"learnToolsVersion\": \"0.3.4\", \"failureMessage\": \"\", \"exceptionClass\": \"\", \"trace\": \"\"}}, \"*\")"
      ],
      "text/plain": [
       "<IPython.core.display.Javascript object>"
      ]
     },
     "metadata": {},
     "output_type": "display_data"
    },
    {
     "data": {
      "text/markdown": [
       "<span style=\"color:#33cc33\">Correct</span>"
      ],
      "text/plain": [
       "Correct"
      ]
     },
     "metadata": {},
     "output_type": "display_data"
    }
   ],
   "source": [
    "# Fill in the line below: Which candy was more popular with survey respondents:\n",
    "# '3 Musketeers' or 'Almond Joy'?  (Please enclose your answer in single quotes.)\n",
    "more_popular = '3 Musketeers'\n",
    "\n",
    "# Fill in the line below: Which candy has higher sugar content: 'Air Heads'\n",
    "# or 'Baby Ruth'? (Please enclose your answer in single quotes.)\n",
    "more_sugar = 'Air Heads'\n",
    "\n",
    "# Check your answers\n",
    "step_2.check()"
   ]
  },
  {
   "cell_type": "code",
   "execution_count": 7,
   "id": "06eaee39",
   "metadata": {
    "execution": {
     "iopub.execute_input": "2022-04-15T19:15:12.734497Z",
     "iopub.status.busy": "2022-04-15T19:15:12.734084Z",
     "iopub.status.idle": "2022-04-15T19:15:12.737399Z",
     "shell.execute_reply": "2022-04-15T19:15:12.736746Z"
    },
    "papermill": {
     "duration": 0.032832,
     "end_time": "2022-04-15T19:15:12.738994",
     "exception": false,
     "start_time": "2022-04-15T19:15:12.706162",
     "status": "completed"
    },
    "tags": []
   },
   "outputs": [],
   "source": [
    "# Lines below will give you a hint or solution code\n",
    "#step_2.hint()\n",
    "#step_2.solution()"
   ]
  },
  {
   "cell_type": "markdown",
   "id": "ebc1c5b2",
   "metadata": {
    "papermill": {
     "duration": 0.026716,
     "end_time": "2022-04-15T19:15:12.792506",
     "exception": false,
     "start_time": "2022-04-15T19:15:12.765790",
     "status": "completed"
    },
    "tags": []
   },
   "source": [
    "## Step 3: The role of sugar\n",
    "\n",
    "Do people tend to prefer candies with higher sugar content?  \n",
    "\n",
    "#### Part A\n",
    "\n",
    "Create a scatter plot that shows the relationship between `'sugarpercent'` (on the horizontal x-axis) and `'winpercent'` (on the vertical y-axis).  _Don't add a regression line just yet -- you'll do that in the next step!_"
   ]
  },
  {
   "cell_type": "code",
   "execution_count": 8,
   "id": "aca8d3ca",
   "metadata": {
    "execution": {
     "iopub.execute_input": "2022-04-15T19:15:12.847581Z",
     "iopub.status.busy": "2022-04-15T19:15:12.847161Z",
     "iopub.status.idle": "2022-04-15T19:15:13.088992Z",
     "shell.execute_reply": "2022-04-15T19:15:13.088318Z"
    },
    "papermill": {
     "duration": 0.272062,
     "end_time": "2022-04-15T19:15:13.091337",
     "exception": false,
     "start_time": "2022-04-15T19:15:12.819275",
     "status": "completed"
    },
    "tags": []
   },
   "outputs": [
    {
     "data": {
      "application/javascript": [
       "parent.postMessage({\"jupyterEvent\": \"custom.exercise_interaction\", \"data\": {\"outcomeType\": 1, \"valueTowardsCompletion\": 0.3333333333333333, \"interactionType\": 1, \"questionType\": 2, \"questionId\": \"3.1_PlotBlueScatter\", \"learnToolsVersion\": \"0.3.4\", \"failureMessage\": \"\", \"exceptionClass\": \"\", \"trace\": \"\"}}, \"*\")"
      ],
      "text/plain": [
       "<IPython.core.display.Javascript object>"
      ]
     },
     "metadata": {},
     "output_type": "display_data"
    },
    {
     "data": {
      "text/markdown": [
       "<span style=\"color:#33cc33\">Correct</span>"
      ],
      "text/plain": [
       "Correct"
      ]
     },
     "metadata": {},
     "output_type": "display_data"
    },
    {
     "data": {
      "image/png": "[encoded data removed]",
      "text/plain": [
       "<Figure size 432x288 with 1 Axes>"
      ]
     },
     "metadata": {
      "needs_background": "light"
     },
     "output_type": "display_data"
    }
   ],
   "source": [
    "# Scatter plot showing the relationship between 'sugarpercent' and 'winpercent'\n",
    "sns.scatterplot(x=candy_data['sugarpercent'], y=candy_data['winpercent'])\n",
    "\n",
    "# Check your answer\n",
    "step_3.a.check()"
   ]
  },
  {
   "cell_type": "code",
   "execution_count": 9,
   "id": "feba9d4a",
   "metadata": {
    "execution": {
     "iopub.execute_input": "2022-04-15T19:15:13.150185Z",
     "iopub.status.busy": "2022-04-15T19:15:13.149726Z",
     "iopub.status.idle": "2022-04-15T19:15:13.152591Z",
     "shell.execute_reply": "2022-04-15T19:15:13.152098Z"
    },
    "papermill": {
     "duration": 0.033989,
     "end_time": "2022-04-15T19:15:13.154113",
     "exception": false,
     "start_time": "2022-04-15T19:15:13.120124",
     "status": "completed"
    },
    "tags": []
   },
   "outputs": [],
   "source": [
    "# Lines below will give you a hint or solution code\n",
    "#step_3.a.hint()\n",
    "#step_3.a.solution_plot()"
   ]
  },
  {
   "cell_type": "markdown",
   "id": "b868c7be",
   "metadata": {
    "papermill": {
     "duration": 0.028974,
     "end_time": "2022-04-15T19:15:13.212036",
     "exception": false,
     "start_time": "2022-04-15T19:15:13.183062",
     "status": "completed"
    },
    "tags": []
   },
   "source": [
    "#### Part B\n",
    "\n",
    "Does the scatter plot show a **strong** correlation between the two variables?  If so, are candies with more sugar relatively more or less popular with the survey respondents?"
   ]
  },
  {
   "cell_type": "code",
   "execution_count": 10,
   "id": "21f1d13d",
   "metadata": {
    "execution": {
     "iopub.execute_input": "2022-04-15T19:15:13.271736Z",
     "iopub.status.busy": "2022-04-15T19:15:13.270858Z",
     "iopub.status.idle": "2022-04-15T19:15:13.275305Z",
     "shell.execute_reply": "2022-04-15T19:15:13.274549Z"
    },
    "papermill": {
     "duration": 0.036166,
     "end_time": "2022-04-15T19:15:13.276934",
     "exception": false,
     "start_time": "2022-04-15T19:15:13.240768",
     "status": "completed"
    },
    "tags": []
   },
   "outputs": [],
   "source": [
    "#step_3.b.hint()"
   ]
  },
  {
   "cell_type": "code",
   "execution_count": 11,
   "id": "ddb8e29d",
   "metadata": {
    "execution": {
     "iopub.execute_input": "2022-04-15T19:15:13.335997Z",
     "iopub.status.busy": "2022-04-15T19:15:13.335535Z",
     "iopub.status.idle": "2022-04-15T19:15:13.340782Z",
     "shell.execute_reply": "2022-04-15T19:15:13.340291Z"
    },
    "papermill": {
     "duration": 0.036517,
     "end_time": "2022-04-15T19:15:13.342247",
     "exception": false,
     "start_time": "2022-04-15T19:15:13.305730",
     "status": "completed"
    },
    "tags": []
   },
   "outputs": [
    {
     "data": {
      "application/javascript": [
       "parent.postMessage({\"jupyterEvent\": \"custom.exercise_interaction\", \"data\": {\"interactionType\": 3, \"questionType\": 4, \"questionId\": \"3.2_ThinkBlueScatter\", \"learnToolsVersion\": \"0.3.4\", \"valueTowardsCompletion\": 0.0, \"failureMessage\": \"\", \"exceptionClass\": \"\", \"trace\": \"\", \"outcomeType\": 4}}, \"*\")"
      ],
      "text/plain": [
       "<IPython.core.display.Javascript object>"
      ]
     },
     "metadata": {},
     "output_type": "display_data"
    },
    {
     "data": {
      "text/markdown": [
       "<span style=\"color:#33cc99\">Solution:</span> The scatter plot does not show a strong correlation between the two variables. Since there is no clear relationship between the two variables, this tells us that sugar content does not play a strong role in candy popularity."
      ],
      "text/plain": [
       "Solution: The scatter plot does not show a strong correlation between the two variables. Since there is no clear relationship between the two variables, this tells us that sugar content does not play a strong role in candy popularity."
      ]
     },
     "metadata": {},
     "output_type": "display_data"
    }
   ],
   "source": [
    "#Check your answer (Run this code cell to receive credit!)\n",
    "step_3.b.solution()"
   ]
  },
  {
   "cell_type": "markdown",
   "id": "504e95da",
   "metadata": {
    "papermill": {
     "duration": 0.029019,
     "end_time": "2022-04-15T19:15:13.400810",
     "exception": false,
     "start_time": "2022-04-15T19:15:13.371791",
     "status": "completed"
    },
    "tags": []
   },
   "source": [
    "## Step 4: Take a closer look\n",
    "\n",
    "#### Part A\n",
    "\n",
    "Create the same scatter plot you created in **Step 3**, but now with a regression line!"
   ]
  },
  {
   "cell_type": "code",
   "execution_count": 12,
   "id": "eb70cfbd",
   "metadata": {
    "execution": {
     "iopub.execute_input": "2022-04-15T19:15:13.461402Z",
     "iopub.status.busy": "2022-04-15T19:15:13.460906Z",
     "iopub.status.idle": "2022-04-15T19:15:13.735117Z",
     "shell.execute_reply": "2022-04-15T19:15:13.734323Z"
    },
    "papermill": {
     "duration": 0.306929,
     "end_time": "2022-04-15T19:15:13.737158",
     "exception": false,
     "start_time": "2022-04-15T19:15:13.430229",
     "status": "completed"
    },
    "tags": []
   },
   "outputs": [
    {
     "data": {
      "application/javascript": [
       "parent.postMessage({\"jupyterEvent\": \"custom.exercise_interaction\", \"data\": {\"outcomeType\": 1, \"valueTowardsCompletion\": 0.3333333333333333, \"interactionType\": 1, \"questionType\": 2, \"questionId\": \"4.1_PlotBlueReg\", \"learnToolsVersion\": \"0.3.4\", \"failureMessage\": \"\", \"exceptionClass\": \"\", \"trace\": \"\"}}, \"*\")"
      ],
      "text/plain": [
       "<IPython.core.display.Javascript object>"
      ]
     },
     "metadata": {},
     "output_type": "display_data"
    },
    {
     "data": {
      "text/markdown": [
       "<span style=\"color:#33cc33\">Correct</span>"
      ],
      "text/plain": [
       "Correct"
      ]
     },
     "metadata": {},
     "output_type": "display_data"
    },
    {
     "data": {
      "image/png": "[encoded data removed]",
      "text/plain": [
       "<Figure size 432x288 with 1 Axes>"
      ]
     },
     "metadata": {
      "needs_background": "light"
     },
     "output_type": "display_data"
    }
   ],
   "source": [
    "# Scatter plot w/ regression line showing the relationship between 'sugarpercent' and 'winpercent'\n",
    "sns.regplot(x=candy_data['sugarpercent'], y=candy_data['winpercent'])\n",
    "\n",
    "# Check your answer\n",
    "step_4.a.check()"
   ]
  },
  {
   "cell_type": "code",
   "execution_count": 13,
   "id": "574d549e",
   "metadata": {
    "execution": {
     "iopub.execute_input": "2022-04-15T19:15:13.802016Z",
     "iopub.status.busy": "2022-04-15T19:15:13.801524Z",
     "iopub.status.idle": "2022-04-15T19:15:13.804953Z",
     "shell.execute_reply": "2022-04-15T19:15:13.804414Z"
    },
    "papermill": {
     "duration": 0.03777,
     "end_time": "2022-04-15T19:15:13.806572",
     "exception": false,
     "start_time": "2022-04-15T19:15:13.768802",
     "status": "completed"
    },
    "tags": []
   },
   "outputs": [],
   "source": [
    "# Lines below will give you a hint or solution code\n",
    "#step_4.a.hint()\n",
    "#step_4.a.solution_plot()"
   ]
  },
  {
   "cell_type": "markdown",
   "id": "d85213af",
   "metadata": {
    "papermill": {
     "duration": 0.031439,
     "end_time": "2022-04-15T19:15:13.869621",
     "exception": false,
     "start_time": "2022-04-15T19:15:13.838182",
     "status": "completed"
    },
    "tags": []
   },
   "source": [
    "#### Part B\n",
    "\n",
    "According to the plot above, is there a **slight** correlation between `'winpercent'` and `'sugarpercent'`?  What does this tell you about the candy that people tend to prefer?"
   ]
  },
  {
   "cell_type": "code",
   "execution_count": 14,
   "id": "14613b94",
   "metadata": {
    "execution": {
     "iopub.execute_input": "2022-04-15T19:15:13.934910Z",
     "iopub.status.busy": "2022-04-15T19:15:13.934321Z",
     "iopub.status.idle": "2022-04-15T19:15:13.938032Z",
     "shell.execute_reply": "2022-04-15T19:15:13.937471Z"
    },
    "papermill": {
     "duration": 0.038549,
     "end_time": "2022-04-15T19:15:13.939752",
     "exception": false,
     "start_time": "2022-04-15T19:15:13.901203",
     "status": "completed"
    },
    "tags": []
   },
   "outputs": [],
   "source": [
    "#step_4.b.hint()"
   ]
  },
  {
   "cell_type": "code",
   "execution_count": 15,
   "id": "3674943f",
   "metadata": {
    "execution": {
     "iopub.execute_input": "2022-04-15T19:15:14.005672Z",
     "iopub.status.busy": "2022-04-15T19:15:14.005115Z",
     "iopub.status.idle": "2022-04-15T19:15:14.011652Z",
     "shell.execute_reply": "2022-04-15T19:15:14.011124Z"
    },
    "papermill": {
     "duration": 0.041416,
     "end_time": "2022-04-15T19:15:14.013200",
     "exception": false,
     "start_time": "2022-04-15T19:15:13.971784",
     "status": "completed"
    },
    "tags": []
   },
   "outputs": [
    {
     "data": {
      "application/javascript": [
       "parent.postMessage({\"jupyterEvent\": \"custom.exercise_interaction\", \"data\": {\"interactionType\": 3, \"questionType\": 4, \"questionId\": \"4.2_ThinkBlueReg\", \"learnToolsVersion\": \"0.3.4\", \"valueTowardsCompletion\": 0.0, \"failureMessage\": \"\", \"exceptionClass\": \"\", \"trace\": \"\", \"outcomeType\": 4}}, \"*\")"
      ],
      "text/plain": [
       "<IPython.core.display.Javascript object>"
      ]
     },
     "metadata": {},
     "output_type": "display_data"
    },
    {
     "data": {
      "text/markdown": [
       "<span style=\"color:#33cc99\">Solution:</span> Since the regression line has a slightly positive slope, this tells us that there is a slightly positive correlation between `'winpercent'` and `'sugarpercent'`. Thus, people have a slight preference for candies containing relatively more sugar."
      ],
      "text/plain": [
       "Solution: Since the regression line has a slightly positive slope, this tells us that there is a slightly positive correlation between `'winpercent'` and `'sugarpercent'`. Thus, people have a slight preference for candies containing relatively more sugar."
      ]
     },
     "metadata": {},
     "output_type": "display_data"
    }
   ],
   "source": [
    "# Check your answer (Run this code cell to receive credit!)\n",
    "step_4.b.solution()"
   ]
  },
  {
   "cell_type": "markdown",
   "id": "af3d8c2a",
   "metadata": {
    "papermill": {
     "duration": 0.034009,
     "end_time": "2022-04-15T19:15:14.080494",
     "exception": false,
     "start_time": "2022-04-15T19:15:14.046485",
     "status": "completed"
    },
    "tags": []
   },
   "source": [
    "## Step 5: Chocolate!\n",
    "\n",
    "In the code cell below, create a scatter plot to show the relationship between `'pricepercent'` (on the horizontal x-axis) and `'winpercent'` (on the vertical y-axis). Use the `'chocolate'` column to color-code the points.  _Don't add any regression lines just yet -- you'll do that in the next step!_"
   ]
  },
  {
   "cell_type": "code",
   "execution_count": 16,
   "id": "17257c35",
   "metadata": {
    "execution": {
     "iopub.execute_input": "2022-04-15T19:15:14.148514Z",
     "iopub.status.busy": "2022-04-15T19:15:14.148235Z",
     "iopub.status.idle": "2022-04-15T19:15:14.409933Z",
     "shell.execute_reply": "2022-04-15T19:15:14.409407Z"
    },
    "papermill": {
     "duration": 0.297311,
     "end_time": "2022-04-15T19:15:14.411540",
     "exception": false,
     "start_time": "2022-04-15T19:15:14.114229",
     "status": "completed"
    },
    "tags": []
   },
   "outputs": [
    {
     "data": {
      "application/javascript": [
       "parent.postMessage({\"jupyterEvent\": \"custom.exercise_interaction\", \"data\": {\"outcomeType\": 1, \"valueTowardsCompletion\": 0.3333333333333333, \"interactionType\": 1, \"questionType\": 2, \"questionId\": \"5_ColorScatter\", \"learnToolsVersion\": \"0.3.4\", \"failureMessage\": \"\", \"exceptionClass\": \"\", \"trace\": \"\"}}, \"*\")"
      ],
      "text/plain": [
       "<IPython.core.display.Javascript object>"
      ]
     },
     "metadata": {},
     "output_type": "display_data"
    },
    {
     "data": {
      "text/markdown": [
       "<span style=\"color:#33cc33\">Correct</span>"
      ],
      "text/plain": [
       "Correct"
      ]
     },
     "metadata": {},
     "output_type": "display_data"
    },
    {
     "data": {
      "image/png": "[encoded data removed]",
      "text/plain": [
       "<Figure size 432x288 with 1 Axes>"
      ]
     },
     "metadata": {
      "needs_background": "light"
     },
     "output_type": "display_data"
    }
   ],
   "source": [
    "# Scatter plot showing the relationship between 'pricepercent', 'winpercent', and 'chocolate'\n",
    "sns.scatterplot(x=candy_data['pricepercent'], y=candy_data['winpercent'], hue=candy_data['chocolate'])\n",
    "\n",
    "# Check your answer\n",
    "step_5.check()"
   ]
  },
  {
   "cell_type": "code",
   "execution_count": 17,
   "id": "597a7a2c",
   "metadata": {
    "execution": {
     "iopub.execute_input": "2022-04-15T19:15:14.482444Z",
     "iopub.status.busy": "2022-04-15T19:15:14.481732Z",
     "iopub.status.idle": "2022-04-15T19:15:14.484728Z",
     "shell.execute_reply": "2022-04-15T19:15:14.484236Z"
    },
    "papermill": {
     "duration": 0.040104,
     "end_time": "2022-04-15T19:15:14.486223",
     "exception": false,
     "start_time": "2022-04-15T19:15:14.446119",
     "status": "completed"
    },
    "tags": []
   },
   "outputs": [],
   "source": [
    "# Lines below will give you a hint or solution code\n",
    "#step_5.hint()\n",
    "#step_5.solution_plot()"
   ]
  },
  {
   "cell_type": "markdown",
   "id": "edfaa47b",
   "metadata": {
    "papermill": {
     "duration": 0.034492,
     "end_time": "2022-04-15T19:15:14.555182",
     "exception": false,
     "start_time": "2022-04-15T19:15:14.520690",
     "status": "completed"
    },
    "tags": []
   },
   "source": [
    "Can you see any interesting patterns in the scatter plot?  We'll investigate this plot further  by adding regression lines in the next step!\n",
    "\n",
    "## Step 6: Investigate chocolate\n",
    "\n",
    "#### Part A\n",
    "\n",
    "Create the same scatter plot you created in **Step 5**, but now with two regression lines, corresponding to (1) chocolate candies and (2) candies without chocolate."
   ]
  },
  {
   "cell_type": "code",
   "execution_count": 18,
   "id": "2d7bf7de",
   "metadata": {
    "execution": {
     "iopub.execute_input": "2022-04-15T19:15:14.626034Z",
     "iopub.status.busy": "2022-04-15T19:15:14.625522Z",
     "iopub.status.idle": "2022-04-15T19:15:15.195943Z",
     "shell.execute_reply": "2022-04-15T19:15:15.195293Z"
    },
    "papermill": {
     "duration": 0.608322,
     "end_time": "2022-04-15T19:15:15.197874",
     "exception": false,
     "start_time": "2022-04-15T19:15:14.589552",
     "status": "completed"
    },
    "tags": []
   },
   "outputs": [
    {
     "data": {
      "application/javascript": [
       "parent.postMessage({\"jupyterEvent\": \"custom.exercise_interaction\", \"data\": {\"outcomeType\": 1, \"valueTowardsCompletion\": 0.3333333333333333, \"interactionType\": 1, \"questionType\": 2, \"questionId\": \"6.1_PlotColorReg\", \"learnToolsVersion\": \"0.3.4\", \"failureMessage\": \"\", \"exceptionClass\": \"\", \"trace\": \"\"}}, \"*\")"
      ],
      "text/plain": [
       "<IPython.core.display.Javascript object>"
      ]
     },
     "metadata": {},
     "output_type": "display_data"
    },
    {
     "data": {
      "text/markdown": [
       "<span style=\"color:#33cc33\">Correct</span>"
      ],
      "text/plain": [
       "Correct"
      ]
     },
     "metadata": {},
     "output_type": "display_data"
    },
    {
     "data": {
      "image/png": "[encoded data removed]",
      "text/plain": [
       "<Figure size 416.375x360 with 1 Axes>"
      ]
     },
     "metadata": {
      "needs_background": "light"
     },
     "output_type": "display_data"
    }
   ],
   "source": [
    "# Color-coded scatter plot w/ regression lines\n",
    "sns.lmplot(x=\"pricepercent\",y=\"winpercent\", hue=\"chocolate\",data=candy_data)\n",
    "\n",
    "# Check your answer\n",
    "step_6.a.check()"
   ]
  },
  {
   "cell_type": "code",
   "execution_count": 19,
   "id": "3951e9c5",
   "metadata": {
    "execution": {
     "iopub.execute_input": "2022-04-15T19:15:15.275597Z",
     "iopub.status.busy": "2022-04-15T19:15:15.275099Z",
     "iopub.status.idle": "2022-04-15T19:15:15.278163Z",
     "shell.execute_reply": "2022-04-15T19:15:15.277555Z"
    },
    "papermill": {
     "duration": 0.044159,
     "end_time": "2022-04-15T19:15:15.280048",
     "exception": false,
     "start_time": "2022-04-15T19:15:15.235889",
     "status": "completed"
    },
    "tags": []
   },
   "outputs": [],
   "source": [
    "# Lines below will give you a hint or solution code\n",
    "#step_6.a.hint()\n",
    "#step_6.a.solution_plot()"
   ]
  },
  {
   "cell_type": "markdown",
   "id": "c0566138",
   "metadata": {
    "papermill": {
     "duration": 0.037295,
     "end_time": "2022-04-15T19:15:15.356389",
     "exception": false,
     "start_time": "2022-04-15T19:15:15.319094",
     "status": "completed"
    },
    "tags": []
   },
   "source": [
    "#### Part B\n",
    "\n",
    "Using the regression lines, what conclusions can you draw about the effects of chocolate and price on candy popularity?"
   ]
  },
  {
   "cell_type": "code",
   "execution_count": 20,
   "id": "367c38dd",
   "metadata": {
    "execution": {
     "iopub.execute_input": "2022-04-15T19:15:15.431666Z",
     "iopub.status.busy": "2022-04-15T19:15:15.431207Z",
     "iopub.status.idle": "2022-04-15T19:15:15.434193Z",
     "shell.execute_reply": "2022-04-15T19:15:15.433607Z"
    },
    "papermill": {
     "duration": 0.042478,
     "end_time": "2022-04-15T19:15:15.435761",
     "exception": false,
     "start_time": "2022-04-15T19:15:15.393283",
     "status": "completed"
    },
    "tags": []
   },
   "outputs": [],
   "source": [
    "#step_6.b.hint()"
   ]
  },
  {
   "cell_type": "code",
   "execution_count": 21,
   "id": "15d49f84",
   "metadata": {
    "execution": {
     "iopub.execute_input": "2022-04-15T19:15:15.510519Z",
     "iopub.status.busy": "2022-04-15T19:15:15.510054Z",
     "iopub.status.idle": "2022-04-15T19:15:15.515852Z",
     "shell.execute_reply": "2022-04-15T19:15:15.515177Z"
    },
    "papermill": {
     "duration": 0.045197,
     "end_time": "2022-04-15T19:15:15.517555",
     "exception": false,
     "start_time": "2022-04-15T19:15:15.472358",
     "status": "completed"
    },
    "tags": []
   },
   "outputs": [
    {
     "data": {
      "application/javascript": [
       "parent.postMessage({\"jupyterEvent\": \"custom.exercise_interaction\", \"data\": {\"interactionType\": 3, \"questionType\": 4, \"questionId\": \"6.2_ThinkColorReg\", \"learnToolsVersion\": \"0.3.4\", \"valueTowardsCompletion\": 0.0, \"failureMessage\": \"\", \"exceptionClass\": \"\", \"trace\": \"\", \"outcomeType\": 4}}, \"*\")"
      ],
      "text/plain": [
       "<IPython.core.display.Javascript object>"
      ]
     },
     "metadata": {},
     "output_type": "display_data"
    },
    {
     "data": {
      "text/markdown": [
       "<span style=\"color:#33cc99\">Solution:</span> We'll begin with the regression line for chocolate candies. Since this line has a slightly positive slope, we can say that more expensive chocolate candies tend to be more popular (than relatively cheaper chocolate candies).  Likewise, since the regression line for candies without chocolate has a negative slope, we can say that if candies don't contain chocolate, they tend to be more popular when they are cheaper.  One important note, however, is that the dataset is quite small -- so we shouldn't invest too much trust in these patterns!  To inspire more confidence in the results, we should add more candies to the dataset."
      ],
      "text/plain": [
       "Solution: We'll begin with the regression line for chocolate candies. Since this line has a slightly positive slope, we can say that more expensive chocolate candies tend to be more popular (than relatively cheaper chocolate candies).  Likewise, since the regression line for candies without chocolate has a negative slope, we can say that if candies don't contain chocolate, they tend to be more popular when they are cheaper.  One important note, however, is that the dataset is quite small -- so we shouldn't invest too much trust in these patterns!  To inspire more confidence in the results, we should add more candies to the dataset."
      ]
     },
     "metadata": {},
     "output_type": "display_data"
    }
   ],
   "source": [
    "# Check your answer (Run this code cell to receive credit!)\n",
    "step_6.b.solution()"
   ]
  },
  {
   "cell_type": "markdown",
   "id": "34595b9e",
   "metadata": {
    "papermill": {
     "duration": 0.037542,
     "end_time": "2022-04-15T19:15:15.593386",
     "exception": false,
     "start_time": "2022-04-15T19:15:15.555844",
     "status": "completed"
    },
    "tags": []
   },
   "source": [
    "## Step 7: Everybody loves chocolate.\n",
    "\n",
    "#### Part A\n",
    "\n",
    "Create a categorical scatter plot to highlight the relationship between `'chocolate'` and `'winpercent'`.  Put `'chocolate'` on the (horizontal) x-axis, and `'winpercent'` on the (vertical) y-axis."
   ]
  },
  {
   "cell_type": "code",
   "execution_count": 22,
   "id": "9a8b9906",
   "metadata": {
    "execution": {
     "iopub.execute_input": "2022-04-15T19:15:15.670079Z",
     "iopub.status.busy": "2022-04-15T19:15:15.669586Z",
     "iopub.status.idle": "2022-04-15T19:15:15.852005Z",
     "shell.execute_reply": "2022-04-15T19:15:15.851388Z"
    },
    "papermill": {
     "duration": 0.222959,
     "end_time": "2022-04-15T19:15:15.853813",
     "exception": false,
     "start_time": "2022-04-15T19:15:15.630854",
     "status": "completed"
    },
    "tags": []
   },
   "outputs": [
    {
     "data": {
      "application/javascript": [
       "parent.postMessage({\"jupyterEvent\": \"custom.exercise_interaction\", \"data\": {\"outcomeType\": 1, \"valueTowardsCompletion\": 0.3333333333333333, \"interactionType\": 1, \"questionType\": 2, \"questionId\": \"7.1_PlotSwarm\", \"learnToolsVersion\": \"0.3.4\", \"failureMessage\": \"\", \"exceptionClass\": \"\", \"trace\": \"\"}}, \"*\")"
      ],
      "text/plain": [
       "<IPython.core.display.Javascript object>"
      ]
     },
     "metadata": {},
     "output_type": "display_data"
    },
    {
     "data": {
      "text/markdown": [
       "<span style=\"color:#33cc33\">Correct</span>"
      ],
      "text/plain": [
       "Correct"
      ]
     },
     "metadata": {},
     "output_type": "display_data"
    },
    {
     "data": {
      "image/png": "[encoded data removed]",
      "text/plain": [
       "<Figure size 432x288 with 1 Axes>"
      ]
     },
     "metadata": {
      "needs_background": "light"
     },
     "output_type": "display_data"
    }
   ],
   "source": [
    "# Scatter plot showing the relationship between 'chocolate' and 'winpercent'\n",
    "sns.swarmplot(x=candy_data['chocolate'],\n",
    "              y=candy_data['winpercent'])\n",
    "# Check your answer\n",
    "step_7.a.check()"
   ]
  },
  {
   "cell_type": "code",
   "execution_count": 23,
   "id": "3b01cbf0",
   "metadata": {
    "execution": {
     "iopub.execute_input": "2022-04-15T19:15:15.934674Z",
     "iopub.status.busy": "2022-04-15T19:15:15.934182Z",
     "iopub.status.idle": "2022-04-15T19:15:15.937031Z",
     "shell.execute_reply": "2022-04-15T19:15:15.936496Z"
    },
    "papermill": {
     "duration": 0.045471,
     "end_time": "2022-04-15T19:15:15.938933",
     "exception": false,
     "start_time": "2022-04-15T19:15:15.893462",
     "status": "completed"
    },
    "tags": []
   },
   "outputs": [],
   "source": [
    "# Lines below will give you a hint or solution code\n",
    "#step_7.a.hint()\n",
    "#step_7.a.solution_plot()"
   ]
  },
  {
   "cell_type": "markdown",
   "id": "02ff8d4e",
   "metadata": {
    "papermill": {
     "duration": 0.040396,
     "end_time": "2022-04-15T19:15:16.019076",
     "exception": false,
     "start_time": "2022-04-15T19:15:15.978680",
     "status": "completed"
    },
    "tags": []
   },
   "source": [
    "#### Part B\n",
    "\n",
    "You decide to dedicate a section of your report to the fact that chocolate candies tend to be more popular than candies without chocolate.  Which plot is more appropriate to tell this story: the plot from **Step 6**, or the plot from **Step 7**?"
   ]
  },
  {
   "cell_type": "code",
   "execution_count": 24,
   "id": "d8629c0e",
   "metadata": {
    "execution": {
     "iopub.execute_input": "2022-04-15T19:15:16.103317Z",
     "iopub.status.busy": "2022-04-15T19:15:16.102832Z",
     "iopub.status.idle": "2022-04-15T19:15:16.105755Z",
     "shell.execute_reply": "2022-04-15T19:15:16.105251Z"
    },
    "papermill": {
     "duration": 0.046018,
     "end_time": "2022-04-15T19:15:16.107451",
     "exception": false,
     "start_time": "2022-04-15T19:15:16.061433",
     "status": "completed"
    },
    "tags": []
   },
   "outputs": [],
   "source": [
    "#step_7.b.hint()"
   ]
  },
  {
   "cell_type": "code",
   "execution_count": 25,
   "id": "c1f8c943",
   "metadata": {
    "execution": {
     "iopub.execute_input": "2022-04-15T19:15:16.189614Z",
     "iopub.status.busy": "2022-04-15T19:15:16.189331Z",
     "iopub.status.idle": "2022-04-15T19:15:16.195311Z",
     "shell.execute_reply": "2022-04-15T19:15:16.194712Z"
    },
    "papermill": {
     "duration": 0.049691,
     "end_time": "2022-04-15T19:15:16.197016",
     "exception": false,
     "start_time": "2022-04-15T19:15:16.147325",
     "status": "completed"
    },
    "tags": []
   },
   "outputs": [
    {
     "data": {
      "application/javascript": [
       "parent.postMessage({\"jupyterEvent\": \"custom.exercise_interaction\", \"data\": {\"interactionType\": 3, \"questionType\": 4, \"questionId\": \"7.2_ThinkSwarm\", \"learnToolsVersion\": \"0.3.4\", \"valueTowardsCompletion\": 0.0, \"failureMessage\": \"\", \"exceptionClass\": \"\", \"trace\": \"\", \"outcomeType\": 4}}, \"*\")"
      ],
      "text/plain": [
       "<IPython.core.display.Javascript object>"
      ]
     },
     "metadata": {},
     "output_type": "display_data"
    },
    {
     "data": {
      "text/markdown": [
       "<span style=\"color:#33cc99\">Solution:</span> In this case, the categorical scatter plot from **Step 7** is the more appropriate plot. While both plots tell the desired story, the plot from **Step 6** conveys far more information that could distract from the main point."
      ],
      "text/plain": [
       "Solution: In this case, the categorical scatter plot from **Step 7** is the more appropriate plot. While both plots tell the desired story, the plot from **Step 6** conveys far more information that could distract from the main point."
      ]
     },
     "metadata": {},
     "output_type": "display_data"
    }
   ],
   "source": [
    "# Check your answer (Run this code cell to receive credit!)\n",
    "step_7.b.solution()"
   ]
  },
  {
   "cell_type": "markdown",
   "id": "9f7d0097",
   "metadata": {
    "papermill": {
     "duration": 0.040446,
     "end_time": "2022-04-15T19:15:16.278210",
     "exception": false,
     "start_time": "2022-04-15T19:15:16.237764",
     "status": "completed"
    },
    "tags": []
   },
   "source": [
    "## Keep going\n",
    "\n",
    "Explore **[histograms and density plots](https://www.kaggle.com/alexisbcook/distributions)**."
   ]
  },
  {
   "cell_type": "markdown",
   "id": "e55e1c4a",
   "metadata": {
    "papermill": {
     "duration": 0.040161,
     "end_time": "2022-04-15T19:15:16.358802",
     "exception": false,
     "start_time": "2022-04-15T19:15:16.318641",
     "status": "completed"
    },
    "tags": []
   },
   "source": [
    "---\n",
    "\n",
    "\n",
    "\n",
    "\n",
    "*Have questions or comments? Visit the [course discussion forum](https://www.kaggle.com/learn/data-visualization/discussion) to chat with other learners.*"
   ]
  }
 ],
 "metadata": {
  "kernelspec": {
   "display_name": "Python 3",
   "language": "python",
   "name": "python3"
  },
  "language_info": {
   "codemirror_mode": {
    "name": "ipython",
    "version": 3
   },
   "file_extension": ".py",
   "mimetype": "text/x-python",
   "name": "python",
   "nbconvert_exporter": "python",
   "pygments_lexer": "ipython3",
   "version": "3.7.12"
  },
  "papermill": {
   "default_parameters": {},
   "duration": 14.345659,
   "end_time": "2022-04-15T19:15:17.025679",
   "environment_variables": {},
   "exception": null,
   "input_path": "__notebook__.ipynb",
   "output_path": "__notebook__.ipynb",
   "parameters": {},
   "start_time": "2022-04-15T19:15:02.680020",
   "version": "2.3.4"
  }
 },
 "nbformat": 4,
 "nbformat_minor": 5
}
